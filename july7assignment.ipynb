{
  "nbformat": 4,
  "nbformat_minor": 0,
  "metadata": {
    "colab": {
      "provenance": []
    },
    "kernelspec": {
      "name": "python3",
      "display_name": "Python 3"
    },
    "language_info": {
      "name": "python"
    }
  },
  "cells": [
    {
      "cell_type": "markdown",
      "source": [
        "1. An Institution wishes to find out their student’s ability in\n",
        "mathematics, reading and writing skills. The Institution\n",
        "wants to do an exploratory study to check the following\n",
        "information.\n",
        "\n",
        "a. Find out how many males and females participated in\n",
        "the test"
      ],
      "metadata": {
        "id": "80D5CKyRNjeU"
      }
    },
    {
      "cell_type": "code",
      "source": [
        "import pandas as pd\n",
        "\n",
        "df = pd.read_csv('/content/Students_Performance (1).csv')\n",
        "df.head()\n",
        "df.columns\n",
        "\n",
        "gender_counts = df['gender'].value_counts()\n",
        "gender_counts\n",
        "\n"
      ],
      "metadata": {
        "colab": {
          "base_uri": "https://localhost:8080/"
        },
        "id": "Bi6Kvk4BNpSe",
        "outputId": "1b9518e6-863e-4ee5-bb9b-8287ac273af4"
      },
      "execution_count": 2,
      "outputs": [
        {
          "output_type": "execute_result",
          "data": {
            "text/plain": [
              "gender\n",
              "female    518\n",
              "male      482\n",
              "Name: count, dtype: int64"
            ]
          },
          "metadata": {},
          "execution_count": 2
        }
      ]
    },
    {
      "cell_type": "markdown",
      "source": [
        "b. What do you think about the students' parental level of\n",
        "education?"
      ],
      "metadata": {
        "id": "nBYK0sLePikj"
      }
    },
    {
      "cell_type": "code",
      "source": [
        "\n",
        "parental_education_counts = df['parental level of education'].value_counts()\n",
        "parental_education_counts\n"
      ],
      "metadata": {
        "colab": {
          "base_uri": "https://localhost:8080/"
        },
        "id": "B4arJIXEPmZz",
        "outputId": "69815354-574a-4af3-9e9b-df1a194d4ff8"
      },
      "execution_count": 3,
      "outputs": [
        {
          "output_type": "execute_result",
          "data": {
            "text/plain": [
              "parental level of education\n",
              "some college          226\n",
              "associate's degree    222\n",
              "high school           196\n",
              "some high school      179\n",
              "bachelor's degree     118\n",
              "master's degree        59\n",
              "Name: count, dtype: int64"
            ]
          },
          "metadata": {},
          "execution_count": 3
        }
      ]
    },
    {
      "cell_type": "markdown",
      "source": [
        "c. Who scores the most on average for math, reading and\n",
        "writing based on\n",
        "\n",
        "i. Gender\n",
        "\n",
        "ii. Test preparation course"
      ],
      "metadata": {
        "id": "hHl2keT1QDhj"
      }
    },
    {
      "cell_type": "code",
      "source": [
        "\n",
        "#based on gender\n",
        "average_scores_gender = df.groupby('gender')[['math score', 'reading score', 'writing score']].mean()\n",
        "print(\"Average Scores based on Gender:\")\n",
        "print(average_scores_gender)\n",
        "\n",
        "# based on test preparation course\n",
        "average_scores_preparation = df.groupby('test preparation course')[['math score', 'reading score', 'writing score']].mean()\n",
        "print(\"\\nAverage Scores based on Test Preparation Course:\")\n",
        "print(average_scores_preparation)\n"
      ],
      "metadata": {
        "colab": {
          "base_uri": "https://localhost:8080/"
        },
        "id": "8QMvC8RtP1nm",
        "outputId": "d12e17fb-ec9f-4487-df8d-e359c29046c4"
      },
      "execution_count": 4,
      "outputs": [
        {
          "output_type": "stream",
          "name": "stdout",
          "text": [
            "Average Scores based on Gender:\n",
            "        math score  reading score  writing score\n",
            "gender                                          \n",
            "female   63.376448      72.590734      72.467181\n",
            "male     68.821577      65.545643      63.446058\n",
            "\n",
            "Average Scores based on Test Preparation Course:\n",
            "                         math score  reading score  writing score\n",
            "test preparation course                                          \n",
            "completed                  69.96648      74.175978      74.684358\n",
            "none                       63.78972      66.417445      64.457944\n"
          ]
        }
      ]
    },
    {
      "cell_type": "markdown",
      "source": [
        "d. What do you think about the scoring variation for\n",
        "math, reading and writing based on\n",
        "\n",
        "i. Gender\n",
        "\n",
        "ii. Test preparation course"
      ],
      "metadata": {
        "id": "lIk-s04VRsbC"
      }
    },
    {
      "cell_type": "code",
      "source": [
        "# i. Calculate standard deviation of scores based on gender\n",
        "std_scores_gender = df.groupby('gender')[['math score', 'reading score', 'writing score']].std()\n",
        "print(\"Standard Deviation of Scores based on Gender:\")\n",
        "print(std_scores_gender)\n"
      ],
      "metadata": {
        "colab": {
          "base_uri": "https://localhost:8080/"
        },
        "id": "R8H_xj_KQ0fN",
        "outputId": "4b5e12af-ce17-4652-acc6-9ad8a5ead9f3"
      },
      "execution_count": 5,
      "outputs": [
        {
          "output_type": "stream",
          "name": "stdout",
          "text": [
            "Standard Deviation of Scores based on Gender:\n",
            "        math score  reading score  writing score\n",
            "gender                                          \n",
            "female   16.029928      14.411018      14.844842\n",
            "male     14.556411      14.149594      14.227225\n"
          ]
        }
      ]
    },
    {
      "cell_type": "code",
      "source": [
        "# ii.  Calculate standard deviation of scores based on test preparation course\n",
        "std_scores_preparation = df.groupby('test preparation course')[['math score', 'reading score', 'writing score']].std()\n",
        "print(\"\\nStandard Deviation of Scores based on Test Preparation Course:\")\n",
        "print(std_scores_preparation)\n"
      ],
      "metadata": {
        "colab": {
          "base_uri": "https://localhost:8080/"
        },
        "id": "NTXkCq8eR24j",
        "outputId": "27830fd6-2be0-4af2-ca64-9ac9842ec7d0"
      },
      "execution_count": 6,
      "outputs": [
        {
          "output_type": "stream",
          "name": "stdout",
          "text": [
            "\n",
            "Standard Deviation of Scores based on Test Preparation Course:\n",
            "                         math score  reading score  writing score\n",
            "test preparation course                                          \n",
            "completed                 14.521847      13.537572      13.236412\n",
            "none                      15.705689      14.608896      15.041667\n"
          ]
        }
      ]
    },
    {
      "cell_type": "markdown",
      "source": [
        "e. The management needs your help to give bonus points\n",
        "to the top 25% of students based on their math score,\n",
        "so how will you help the management to achieve this."
      ],
      "metadata": {
        "id": "qfcTRa6CSM2q"
      }
    },
    {
      "cell_type": "code",
      "source": [
        "# Calculate the 75th percentile of the math score\n",
        "percentile_75 = df['math score'].quantile(0.75)\n",
        "\n",
        "# Identify the top 25% of students based on math score\n",
        "top_25_percent_students = df[df['math score'] >= percentile_75]\n",
        "print(\"Top 25% Students based on Math Score:\")\n",
        "print(top_25_percent_students)\n",
        "\n",
        "# Optionally, you can add bonus points to these students\n",
        "# Assuming you want to add 5 bonus points to their math score\n",
        "df.loc[df['math score'] >= percentile_75, 'math score'] += 5\n"
      ],
      "metadata": {
        "colab": {
          "base_uri": "https://localhost:8080/"
        },
        "id": "gIrTJRGhSF3x",
        "outputId": "0c35430f-e967-4e93-875d-457c3758c990"
      },
      "execution_count": 7,
      "outputs": [
        {
          "output_type": "stream",
          "name": "stdout",
          "text": [
            "Top 25% Students based on Math Score:\n",
            "     gender race/ethnicity parental level of education         lunch  \\\n",
            "414  female        group A                 high school  free/reduced   \n",
            "415  female        group B             master's degree  free/reduced   \n",
            "416  female        group B           bachelor's degree  free/reduced   \n",
            "417  female        group B             master's degree      standard   \n",
            "418  female        group B                 high school      standard   \n",
            "..      ...            ...                         ...           ...   \n",
            "995    male        group E                some college      standard   \n",
            "996    male        group A                some college      standard   \n",
            "997    male        group D                some college      standard   \n",
            "998    male        group E          associate's degree  free/reduced   \n",
            "999    male        group E           bachelor's degree      standard   \n",
            "\n",
            "    test preparation course  math score  reading score  writing score  \n",
            "414               completed          77             88             85  \n",
            "415               completed          77             97             94  \n",
            "416                    none          77             85             87  \n",
            "417                    none          77             90             84  \n",
            "418               completed          77             82             89  \n",
            "..                      ...         ...            ...            ...  \n",
            "995               completed          99             87             81  \n",
            "996               completed         100             96             86  \n",
            "997               completed         100             97             99  \n",
            "998               completed         100            100             93  \n",
            "999               completed         100            100            100  \n",
            "\n",
            "[255 rows x 8 columns]\n"
          ]
        }
      ]
    },
    {
      "cell_type": "markdown",
      "source": [
        "--------------------------------------------------------------------------------"
      ],
      "metadata": {
        "id": "w2npHpxHSxA5"
      }
    },
    {
      "cell_type": "markdown",
      "source": [
        "2. A company started to invest in digital marketing as a new\n",
        "way of their product promotions. For that they collected\n",
        "data and decided to carry out a study on it.\n",
        "\n",
        "\n",
        "a. The company wishes to clarify whether there is any\n",
        "increase in sales after stepping into digital marketing."
      ],
      "metadata": {
        "id": "tSW63yQOS3Yp"
      }
    },
    {
      "cell_type": "code",
      "source": [
        "\n",
        "sales_data = pd.read_csv('/content/Sales_add (1).csv')\n",
        "\n",
        "\n",
        "sales_data.head(), sales_data.columns\n"
      ],
      "metadata": {
        "colab": {
          "base_uri": "https://localhost:8080/"
        },
        "id": "JzTqr1N-S-g8",
        "outputId": "23ad0365-ddcd-4a44-e0e7-f22a6340df9e"
      },
      "execution_count": 8,
      "outputs": [
        {
          "output_type": "execute_result",
          "data": {
            "text/plain": [
              "(     Month      Region      Manager  Sales_before_digital_add(in $)  \\\n",
              " 0  Month-1  Region - A  Manager - A                          132921   \n",
              " 1  Month-2  Region - A  Manager - C                          149559   \n",
              " 2  Month-3  Region - B  Manager - A                          146278   \n",
              " 3  Month-4  Region - B  Manager - B                          152167   \n",
              " 4  Month-5  Region - C  Manager - B                          159525   \n",
              " \n",
              "    Sales_After_digital_add(in $)  \n",
              " 0                         270390  \n",
              " 1                         223334  \n",
              " 2                         244243  \n",
              " 3                         231808  \n",
              " 4                         258402  ,\n",
              " Index(['Month', 'Region', 'Manager', 'Sales_before_digital_add(in $)',\n",
              "        'Sales_After_digital_add(in $)'],\n",
              "       dtype='object'))"
            ]
          },
          "metadata": {},
          "execution_count": 8
        }
      ]
    },
    {
      "cell_type": "code",
      "source": [
        "# a.  The company wishes to clarify whether there is any increase in sales after stepping into digital marketing.\n",
        "\n",
        "\n",
        "from scipy.stats import ttest_rel\n",
        "\n",
        "sales_before = sales_data['Sales_before_digital_add(in $)']\n",
        "sales_after = sales_data['Sales_After_digital_add(in $)']\n",
        "\n",
        "t_stat, p_value = ttest_rel(sales_before, sales_after)\n",
        "print(\"Paired t-test results:\")\n",
        "print(f\"T-statistic: {t_stat}, P-value: {p_value}\")\n",
        "\n",
        "\n",
        "if p_value < 0.05:\n",
        "    print(\"There is a significant increase in sales after digital marketing.\")\n",
        "else:\n",
        "    print(\"There is no significant increase in sales after digital marketing.\")\n"
      ],
      "metadata": {
        "colab": {
          "base_uri": "https://localhost:8080/"
        },
        "id": "EugV7cSzTpWo",
        "outputId": "0d0a3e11-28ef-4209-c66c-ec55b4a30d48"
      },
      "execution_count": 11,
      "outputs": [
        {
          "output_type": "stream",
          "name": "stdout",
          "text": [
            "Paired t-test results:\n",
            "T-statistic: -12.09070525287017, P-value: 6.336667004575778e-11\n",
            "There is a significant increase in sales after digital marketing.\n"
          ]
        }
      ]
    },
    {
      "cell_type": "code",
      "source": [
        "# b. The company needs to check whether there is anydependency between the features “Region” and “Manager”.\n",
        "\n",
        "\n",
        "from scipy.stats import chi2_contingency\n",
        "\n",
        "# contingency table\n",
        "contingency_table = pd.crosstab(sales_data['Region'], sales_data['Manager'])\n",
        "\n",
        "#chi-square test\n",
        "chi2_stat, p_val, dof, ex = chi2_contingency(contingency_table)\n",
        "print(\"Chi-square test results:\")\n",
        "print(f\"Chi2 Statistic: {chi2_stat}, P-value: {p_val}\")\n",
        "\n",
        "\n",
        "if p_val < 0.05:\n",
        "    print(\"There is a significant dependency between Region and Manager.\")\n",
        "else:\n",
        "    print(\"There is no significant dependency between Region and Manager.\")\n"
      ],
      "metadata": {
        "colab": {
          "base_uri": "https://localhost:8080/"
        },
        "id": "IDVEt5IEVBrK",
        "outputId": "72f10c41-b486-4129-95c6-1980070d60f7"
      },
      "execution_count": 12,
      "outputs": [
        {
          "output_type": "stream",
          "name": "stdout",
          "text": [
            "Chi-square test results:\n",
            "Chi2 Statistic: 3.050566893424036, P-value: 0.5493991051158094\n",
            "There is no significant dependency between Region and Manager.\n"
          ]
        }
      ]
    }
  ]
}